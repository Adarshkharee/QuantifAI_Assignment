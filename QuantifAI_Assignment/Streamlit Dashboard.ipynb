{
 "cells": [
  {
   "cell_type": "code",
   "execution_count": 2,
   "id": "d8c6853e-6781-4075-a30b-d5f9ce5364f8",
   "metadata": {},
   "outputs": [],
   "source": [
    "# 📊 Final Streamlit Dashboard – QuantifAI\n",
    "\n",
    "import streamlit as st\n",
    "import pandas as pd\n",
    "import sqlite3\n",
    "\n",
    "# 🗃️ Connect to SQLite DB\n",
    "conn = sqlite3.connect(\"ecommerce.db\")\n",
    "\n",
    "# 🚀 Set page config\n",
    "st.set_page_config(page_title=\"QuantifAI Dashboard\", layout=\"wide\")\n",
    "st.title(\"📈 E-Commerce Dashboard – QuantifAI Assessment\")\n",
    "\n",
    "# 🔎 Optional filter by Customer ID\n",
    "customer_filter = st.text_input(\"🔍 Search by Customer ID (e.g., 1 or CUST_0001)\")\n",
    "\n",
    "# 🔄 Load data from SQLite\n",
    "orders = pd.read_sql(\"SELECT * FROM orders\", conn)\n",
    "customers = pd.read_sql(\"SELECT * FROM customers\", conn)\n",
    "products = pd.read_sql(\"SELECT * FROM products\", conn)\n",
    "\n",
    "# ✅ Filter orders if customer entered\n",
    "if customer_filter:\n",
    "    orders = orders[orders['customer_id'].astype(str).str.contains(customer_filter)]\n",
    "\n",
    "# 🧠 DEBUG: Show available columns\n",
    "# st.write(\"Orders Columns:\", orders.columns.tolist())\n",
    "\n",
    "# 🧾 Calculate KPIs (Safe fallback)\n",
    "total_sales = orders['amount'].sum() if 'amount' in orders.columns else 0\n",
    "total_orders = orders.shape[0]\n",
    "unique_customers = customers['customer_id'].nunique() if 'customer_id' in customers.columns else 0\n",
    "\n",
    "# 📊 Show KPIs\n",
    "col1, col2, col3 = st.columns(3)\n",
    "col1.metric(\"💰 Total Sales\", f\"${total_sales:,.2f}\")\n",
    "col2.metric(\"📦 Total Orders\", total_orders)\n",
    "col3.metric(\"👥 Unique Customers\", unique_customers)\n",
    "\n",
    "# 📈 Sales Over Time (Only if 'order_date' and 'amount' exist)\n",
    "if 'order_date' in orders.columns and 'amount' in orders.columns:\n",
    "    st.subheader(\"📅 Sales Over Time\")\n",
    "    orders['order_date'] = pd.to_datetime(orders['order_date'], errors='coerce')\n",
    "    sales_trend = orders.groupby('order_date')['amount'].sum().reset_index()\n",
    "    st.line_chart(sales_trend.set_index('order_date'))\n",
    "\n",
    "# 📋 Data Preview\n",
    "st.subheader(\"🧾 Orders Table Preview\")\n",
    "st.dataframe(orders.head())\n",
    "\n",
    "conn.close()"
   ]
  },
  {
   "cell_type": "code",
   "execution_count": null,
   "id": "69c0a1a2-0f24-44cd-bc5a-622b407633b4",
   "metadata": {},
   "outputs": [],
   "source": []
  }
 ],
 "metadata": {
  "kernelspec": {
   "display_name": "Python 3 (ipykernel)",
   "language": "python",
   "name": "python3"
  },
  "language_info": {
   "codemirror_mode": {
    "name": "ipython",
    "version": 3
   },
   "file_extension": ".py",
   "mimetype": "text/x-python",
   "name": "python",
   "nbconvert_exporter": "python",
   "pygments_lexer": "ipython3",
   "version": "3.12.4"
  }
 },
 "nbformat": 4,
 "nbformat_minor": 5
}
